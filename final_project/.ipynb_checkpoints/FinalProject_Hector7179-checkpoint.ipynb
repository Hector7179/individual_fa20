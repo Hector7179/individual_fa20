{
 "cells": [
  {
   "cell_type": "markdown",
   "metadata": {},
   "source": [
    "# COGS 108 - Final Project "
   ]
  },
  {
   "cell_type": "markdown",
   "metadata": {},
   "source": [
    "# Overview"
   ]
  },
  {
   "cell_type": "markdown",
   "metadata": {},
   "source": [
    "*Fill in your overview here*"
   ]
  },
  {
   "cell_type": "markdown",
   "metadata": {},
   "source": [
    "# Name & GitHub ID\n",
    "\n",
    "- Name: Hector Penado Jr\n",
    "- GitHub Username: Hector7179"
   ]
  },
  {
   "cell_type": "markdown",
   "metadata": {},
   "source": [
    "# Research Question"
   ]
  },
  {
   "cell_type": "markdown",
   "metadata": {},
   "source": [
    "Is there a relationship between the size of a San Diego Park (in acres) and its corresponding rating on yelp?"
   ]
  },
  {
   "cell_type": "markdown",
   "metadata": {},
   "source": [
    "## Background and Prior Work"
   ]
  },
  {
   "cell_type": "markdown",
   "metadata": {},
   "source": [
    "After living in San Diego for the better part of 3 years I have been to over a handful of small, neighborhood parks around the area that I live in and only one large park (Balboa Park). When I went to Balboa park, I remember distinctly how there were lots of people walking around or engaging in some activity. It was busier than most parks I have been too and I associated that with the idea that this park must be very liked. Conversely, whenever I would go to the smaller parks around my area, I would notice that they tended to by empty in both activities one could do, and number or people. This got me thinking if smaller parks were less liked than their bigger counterparts.\n",
    "\n",
    "From the background work that I have gathered, it appears to me that bigger parks do tend to be more popular than smaller parks because there is often more to do in them.\n",
    "\n",
    "USA Today compiled a list of the best parks in San Diego. All of the parks mentioned in the list were relatively large parks. These parks either had large spaces for activits, gardens, close proximity to the beach, hiking trails, etc. There were no mentionings of small parks at all in the list. This reinforces my hypothesis that large parks are more liked than smaller ones.\n",
    "\n",
    "An article by Andrew Price titles, \"Grand Parks vs. Neighborhood\" makes a distinction between \"Grand Parks\" and \"Neighborhood Parks\" that gave me ideas as to why larger parks may be more liked than smaller ones. He brought up the point that to lots of people, neighborhood parks may seem irrelevant because they don't offer activites they could already do in their homes. Whereas grand parks offer opportunities for new experiences and excitement which neighborhood parks can't provide. I believe that because larger parks tend to have more excitement than smaller parks, they will receive better ratings on yelp because of the more fun experience people have in larger parks as opposed to a more mundane experience you could expect from a smaller park.\n",
    "\n",
    "References:\n",
    "- 1)https://www.10best.com/destinations/california/san-diego/attractions/parks/\n",
    "- 2)https://www.strongtowns.org/journal/2015/9/15/parks'"
   ]
  },
  {
   "cell_type": "markdown",
   "metadata": {},
   "source": [
    "# Hypothesis\n"
   ]
  },
  {
   "cell_type": "markdown",
   "metadata": {},
   "source": [
    "The background knowledge I have gained in preparation for this topic leads me to the belief that an increase in acreage of parks allows for more activites that people can engage in which in turn leads to a better experience. That is why I believe that an increase in the size of a park, will lead to an increase in people's yelp ratings of the park."
   ]
  },
  {
   "cell_type": "markdown",
   "metadata": {},
   "source": [
    "# Dataset(s)"
   ]
  },
  {
   "cell_type": "markdown",
   "metadata": {},
   "source": [
    "The ideal dataset for this question would be one that provided me detailed information on the different parks of San Diego. The primary information I would be looking for would be the name of parks, size of the park, some sort of rating scale I could use as an indication of how people felt about the park. Ideally, I would want to have this information on the parks throughout the years to see if a trend is present regarding the relationship between size of parks and people's ratings of them. Ideally, I think it would be best to store the observations in a datframe where the columns would be for the variables I am interested in exploring and the rows would be each park in San Diego as an observation.\n",
    "\n",
    "Dataset 1:\n",
    "Dataset: yelp_SD_parks.csv\n",
    "Link: I was provided with this dataset by instructor.\n",
    "Number of observations: 833\n",
    "This dataset provides information from yelp regarding multiple parks in San Diego. Important information provided in this dataset for this project is name of park and user rating.\n",
    "\n",
    "Dataset 2:\n",
    "Dataset: parks_datasd.geojson\n",
    "Link: I was provided with this dataset by the instructor.\n",
    "Number of observations: 2769\n",
    "This dataset provides location data of parks in San Diego. Important information provided in this dataset for this project is alias of park and gis_acres.\n",
    "\n",
    "Plan for combining datasets: Since I am using two datasets, I plan on merging them based on park names."
   ]
  },
  {
   "cell_type": "markdown",
   "metadata": {},
   "source": [
    "# Setup"
   ]
  },
  {
   "cell_type": "code",
   "execution_count": 1,
   "metadata": {},
   "outputs": [],
   "source": [
    "\n",
    "#import libraries needed for project\n",
    "%matplotlib inline\n",
    "\n",
    "import numpy as np\n",
    "import pandas as pd\n",
    "\n",
    "import matplotlib.pyplot as plt\n",
    "import matplotlib as mpl\n",
    "\n",
    "import seaborn as sns\n",
    "\n",
    "import patsy\n",
    "import statsmodels.api as sm\n",
    "\n",
    "#ignore warnings\n",
    "import warnings\n",
    "warnings.filterwarnings('ignore')\n",
    "\n",
    "from scipy.stats import skewnorm\n",
    "import geopandas as gpd"
   ]
  },
  {
   "cell_type": "markdown",
   "metadata": {},
   "source": [
    "# Data Cleaning"
   ]
  },
  {
   "cell_type": "markdown",
   "metadata": {},
   "source": [
    "### creating data frames"
   ]
  },
  {
   "cell_type": "code",
   "execution_count": 2,
   "metadata": {},
   "outputs": [],
   "source": [
    "# placing datasets into dataframes\n",
    "df_1 = pd.read_csv('https://raw.githubusercontent.com/COGS108/individual_fa20/master/data/yelp_SD_parks.csv')\n",
    "df_2 = gpd.read_file('https://raw.githubusercontent.com/COGS108/individual_fa20/master/data/parks_datasd.geojson')\n"
   ]
  },
  {
   "cell_type": "markdown",
   "metadata": {},
   "source": [
    "### Cleaning park names for merging preparation"
   ]
  },
  {
   "cell_type": "markdown",
   "metadata": {},
   "source": [
    "Goal is to merge both datasets based on the name of the parks. For df_1 I will be cleaning the 'name' column and for df_2 I will be cleaning the 'alias' column. I won't be using the 'name' column of df_2 because I found that the 'alias' columns tends to write out park names like in df_1 more often."
   ]
  },
  {
   "cell_type": "code",
   "execution_count": 3,
   "metadata": {},
   "outputs": [],
   "source": [
    "# function that will standardize the names of parks in both datasets so that they will have better success at merging.\n",
    "def standardizer(string):\n",
    "    # Make the input all lowercase\n",
    "    new = string.lower()\n",
    "    \n",
    "    # Drop all whitespace\n",
    "    new = new.strip()\n",
    "    #get rid of 'park' to include names that may not include park\n",
    "    new = new.replace('park', '')\n",
    "    new = new.strip()\n",
    "    return new\n"
   ]
  },
  {
   "cell_type": "code",
   "execution_count": 4,
   "metadata": {},
   "outputs": [],
   "source": [
    "#applying function to both dataframes\n",
    "df_1['name'] = df_1['name'].apply(standardizer)\n",
    "df_2['alias'] = df_2['alias'].apply(standardizer)"
   ]
  },
  {
   "cell_type": "markdown",
   "metadata": {},
   "source": [
    "### Getting rid of unwanted columns"
   ]
  },
  {
   "cell_type": "markdown",
   "metadata": {},
   "source": [
    "I do not need all of the columns from both datasets to conduct my research. Therefore, I will drop the columns I do not require."
   ]
  },
  {
   "cell_type": "code",
   "execution_count": 5,
   "metadata": {},
   "outputs": [],
   "source": [
    "df_1 = df_1[['name','rating']]\n",
    "df_2 = df_2[['alias','gis_acres']]"
   ]
  },
  {
   "cell_type": "markdown",
   "metadata": {},
   "source": [
    "### Merging"
   ]
  },
  {
   "cell_type": "markdown",
   "metadata": {},
   "source": [
    "Now my datasets are almost ready to merge. I am just going to change the column name of the 'name' and 'alias' columns of df_1 and df_2, respectively, to 'park' because I want to use those columns to merge on."
   ]
  },
  {
   "cell_type": "code",
   "execution_count": 6,
   "metadata": {},
   "outputs": [],
   "source": [
    "df_1.rename(columns={'name':'park'}, inplace=True)\n",
    "df_2.rename(columns={'alias':'park'}, inplace=True)"
   ]
  },
  {
   "cell_type": "code",
   "execution_count": 7,
   "metadata": {},
   "outputs": [
    {
     "data": {
      "text/html": [
       "<div>\n",
       "<style scoped>\n",
       "    .dataframe tbody tr th:only-of-type {\n",
       "        vertical-align: middle;\n",
       "    }\n",
       "\n",
       "    .dataframe tbody tr th {\n",
       "        vertical-align: top;\n",
       "    }\n",
       "\n",
       "    .dataframe thead th {\n",
       "        text-align: right;\n",
       "    }\n",
       "</style>\n",
       "<table border=\"1\" class=\"dataframe\">\n",
       "  <thead>\n",
       "    <tr style=\"text-align: right;\">\n",
       "      <th></th>\n",
       "      <th>park</th>\n",
       "      <th>rating</th>\n",
       "    </tr>\n",
       "  </thead>\n",
       "  <tbody>\n",
       "    <tr>\n",
       "      <th>0</th>\n",
       "      <td>balboa</td>\n",
       "      <td>5.0</td>\n",
       "    </tr>\n",
       "    <tr>\n",
       "      <th>1</th>\n",
       "      <td>civita</td>\n",
       "      <td>4.5</td>\n",
       "    </tr>\n",
       "    <tr>\n",
       "      <th>2</th>\n",
       "      <td>waterfront</td>\n",
       "      <td>4.5</td>\n",
       "    </tr>\n",
       "    <tr>\n",
       "      <th>3</th>\n",
       "      <td>trolley barn</td>\n",
       "      <td>4.5</td>\n",
       "    </tr>\n",
       "    <tr>\n",
       "      <th>4</th>\n",
       "      <td>bay view</td>\n",
       "      <td>5.0</td>\n",
       "    </tr>\n",
       "  </tbody>\n",
       "</table>\n",
       "</div>"
      ],
      "text/plain": [
       "           park  rating\n",
       "0        balboa     5.0\n",
       "1        civita     4.5\n",
       "2    waterfront     4.5\n",
       "3  trolley barn     4.5\n",
       "4      bay view     5.0"
      ]
     },
     "execution_count": 7,
     "metadata": {},
     "output_type": "execute_result"
    }
   ],
   "source": [
    "df_1.head()"
   ]
  },
  {
   "cell_type": "code",
   "execution_count": 8,
   "metadata": {},
   "outputs": [
    {
     "data": {
      "text/html": [
       "<div>\n",
       "<style scoped>\n",
       "    .dataframe tbody tr th:only-of-type {\n",
       "        vertical-align: middle;\n",
       "    }\n",
       "\n",
       "    .dataframe tbody tr th {\n",
       "        vertical-align: top;\n",
       "    }\n",
       "\n",
       "    .dataframe thead th {\n",
       "        text-align: right;\n",
       "    }\n",
       "</style>\n",
       "<table border=\"1\" class=\"dataframe\">\n",
       "  <thead>\n",
       "    <tr style=\"text-align: right;\">\n",
       "      <th></th>\n",
       "      <th>park</th>\n",
       "      <th>gis_acres</th>\n",
       "    </tr>\n",
       "  </thead>\n",
       "  <tbody>\n",
       "    <tr>\n",
       "      <th>0</th>\n",
       "      <td>south carlsbad state beach</td>\n",
       "      <td>115.895878</td>\n",
       "    </tr>\n",
       "    <tr>\n",
       "      <th>1</th>\n",
       "      <td>torrey pines state beach</td>\n",
       "      <td>67.294309</td>\n",
       "    </tr>\n",
       "    <tr>\n",
       "      <th>2</th>\n",
       "      <td>ruocco</td>\n",
       "      <td>3.312526</td>\n",
       "    </tr>\n",
       "    <tr>\n",
       "      <th>3</th>\n",
       "      <td>tuna harbor</td>\n",
       "      <td>0.639035</td>\n",
       "    </tr>\n",
       "    <tr>\n",
       "      <th>4</th>\n",
       "      <td>san diego bayfront</td>\n",
       "      <td>3.669272</td>\n",
       "    </tr>\n",
       "  </tbody>\n",
       "</table>\n",
       "</div>"
      ],
      "text/plain": [
       "                         park   gis_acres\n",
       "0  south carlsbad state beach  115.895878\n",
       "1    torrey pines state beach   67.294309\n",
       "2                      ruocco    3.312526\n",
       "3                 tuna harbor    0.639035\n",
       "4          san diego bayfront    3.669272"
      ]
     },
     "execution_count": 8,
     "metadata": {},
     "output_type": "execute_result"
    }
   ],
   "source": [
    "df_2.head()"
   ]
  },
  {
   "cell_type": "code",
   "execution_count": 9,
   "metadata": {},
   "outputs": [
    {
     "data": {
      "text/html": [
       "<div>\n",
       "<style scoped>\n",
       "    .dataframe tbody tr th:only-of-type {\n",
       "        vertical-align: middle;\n",
       "    }\n",
       "\n",
       "    .dataframe tbody tr th {\n",
       "        vertical-align: top;\n",
       "    }\n",
       "\n",
       "    .dataframe thead th {\n",
       "        text-align: right;\n",
       "    }\n",
       "</style>\n",
       "<table border=\"1\" class=\"dataframe\">\n",
       "  <thead>\n",
       "    <tr style=\"text-align: right;\">\n",
       "      <th></th>\n",
       "      <th>park</th>\n",
       "      <th>rating</th>\n",
       "      <th>gis_acres</th>\n",
       "    </tr>\n",
       "  </thead>\n",
       "  <tbody>\n",
       "    <tr>\n",
       "      <th>0</th>\n",
       "      <td>balboa</td>\n",
       "      <td>5.0</td>\n",
       "      <td>1089.476460</td>\n",
       "    </tr>\n",
       "    <tr>\n",
       "      <th>1</th>\n",
       "      <td>waterfront</td>\n",
       "      <td>4.5</td>\n",
       "      <td>12.693865</td>\n",
       "    </tr>\n",
       "    <tr>\n",
       "      <th>2</th>\n",
       "      <td>centrum</td>\n",
       "      <td>3.5</td>\n",
       "      <td>2.162943</td>\n",
       "    </tr>\n",
       "    <tr>\n",
       "      <th>3</th>\n",
       "      <td>presidio</td>\n",
       "      <td>4.5</td>\n",
       "      <td>61.265073</td>\n",
       "    </tr>\n",
       "    <tr>\n",
       "      <th>4</th>\n",
       "      <td>olive grove</td>\n",
       "      <td>4.0</td>\n",
       "      <td>9.176157</td>\n",
       "    </tr>\n",
       "    <tr>\n",
       "      <th>...</th>\n",
       "      <td>...</td>\n",
       "      <td>...</td>\n",
       "      <td>...</td>\n",
       "    </tr>\n",
       "    <tr>\n",
       "      <th>230</th>\n",
       "      <td>carmel grove</td>\n",
       "      <td>3.5</td>\n",
       "      <td>2.791804</td>\n",
       "    </tr>\n",
       "    <tr>\n",
       "      <th>231</th>\n",
       "      <td>ashley falls</td>\n",
       "      <td>4.5</td>\n",
       "      <td>11.660442</td>\n",
       "    </tr>\n",
       "    <tr>\n",
       "      <th>232</th>\n",
       "      <td>cuvier</td>\n",
       "      <td>4.5</td>\n",
       "      <td>0.610523</td>\n",
       "    </tr>\n",
       "    <tr>\n",
       "      <th>233</th>\n",
       "      <td>saratoga</td>\n",
       "      <td>5.0</td>\n",
       "      <td>1.251101</td>\n",
       "    </tr>\n",
       "    <tr>\n",
       "      <th>234</th>\n",
       "      <td>grantville</td>\n",
       "      <td>3.5</td>\n",
       "      <td>2.515012</td>\n",
       "    </tr>\n",
       "  </tbody>\n",
       "</table>\n",
       "<p>235 rows × 3 columns</p>\n",
       "</div>"
      ],
      "text/plain": [
       "             park  rating    gis_acres\n",
       "0          balboa     5.0  1089.476460\n",
       "1      waterfront     4.5    12.693865\n",
       "2         centrum     3.5     2.162943\n",
       "3        presidio     4.5    61.265073\n",
       "4     olive grove     4.0     9.176157\n",
       "..            ...     ...          ...\n",
       "230  carmel grove     3.5     2.791804\n",
       "231  ashley falls     4.5    11.660442\n",
       "232        cuvier     4.5     0.610523\n",
       "233      saratoga     5.0     1.251101\n",
       "234    grantville     3.5     2.515012\n",
       "\n",
       "[235 rows x 3 columns]"
      ]
     },
     "execution_count": 9,
     "metadata": {},
     "output_type": "execute_result"
    }
   ],
   "source": [
    "# merging both datasets to variable park_df\n",
    "park_df = pd.merge(df_1,df_2, on = 'park')\n",
    "park_df"
   ]
  },
  {
   "cell_type": "markdown",
   "metadata": {},
   "source": [
    "It is important to note that during the process we lost quite a few observations from the original datasets. This is due to the fact that the datasets used had a tendency of writing the names of parks differently or one dataset did not include the park another one did."
   ]
  },
  {
   "cell_type": "markdown",
   "metadata": {},
   "source": [
    "# Data Analysis & Results"
   ]
  },
  {
   "cell_type": "markdown",
   "metadata": {},
   "source": [
    "Describing the the park_df gives me quick and useful information that gives me a sense of my data and which could be useful as I continue my analysis."
   ]
  },
  {
   "cell_type": "code",
   "execution_count": 11,
   "metadata": {},
   "outputs": [
    {
     "data": {
      "text/html": [
       "<div>\n",
       "<style scoped>\n",
       "    .dataframe tbody tr th:only-of-type {\n",
       "        vertical-align: middle;\n",
       "    }\n",
       "\n",
       "    .dataframe tbody tr th {\n",
       "        vertical-align: top;\n",
       "    }\n",
       "\n",
       "    .dataframe thead th {\n",
       "        text-align: right;\n",
       "    }\n",
       "</style>\n",
       "<table border=\"1\" class=\"dataframe\">\n",
       "  <thead>\n",
       "    <tr style=\"text-align: right;\">\n",
       "      <th></th>\n",
       "      <th>rating</th>\n",
       "      <th>gis_acres</th>\n",
       "    </tr>\n",
       "  </thead>\n",
       "  <tbody>\n",
       "    <tr>\n",
       "      <th>count</th>\n",
       "      <td>235.000000</td>\n",
       "      <td>235.000000</td>\n",
       "    </tr>\n",
       "    <tr>\n",
       "      <th>mean</th>\n",
       "      <td>3.974468</td>\n",
       "      <td>79.474211</td>\n",
       "    </tr>\n",
       "    <tr>\n",
       "      <th>std</th>\n",
       "      <td>0.612710</td>\n",
       "      <td>348.187215</td>\n",
       "    </tr>\n",
       "    <tr>\n",
       "      <th>min</th>\n",
       "      <td>1.000000</td>\n",
       "      <td>0.040720</td>\n",
       "    </tr>\n",
       "    <tr>\n",
       "      <th>25%</th>\n",
       "      <td>4.000000</td>\n",
       "      <td>2.719932</td>\n",
       "    </tr>\n",
       "    <tr>\n",
       "      <th>50%</th>\n",
       "      <td>4.000000</td>\n",
       "      <td>8.024891</td>\n",
       "    </tr>\n",
       "    <tr>\n",
       "      <th>75%</th>\n",
       "      <td>4.500000</td>\n",
       "      <td>19.168185</td>\n",
       "    </tr>\n",
       "    <tr>\n",
       "      <th>max</th>\n",
       "      <td>5.000000</td>\n",
       "      <td>4108.397150</td>\n",
       "    </tr>\n",
       "  </tbody>\n",
       "</table>\n",
       "</div>"
      ],
      "text/plain": [
       "           rating    gis_acres\n",
       "count  235.000000   235.000000\n",
       "mean     3.974468    79.474211\n",
       "std      0.612710   348.187215\n",
       "min      1.000000     0.040720\n",
       "25%      4.000000     2.719932\n",
       "50%      4.000000     8.024891\n",
       "75%      4.500000    19.168185\n",
       "max      5.000000  4108.397150"
      ]
     },
     "execution_count": 11,
     "metadata": {},
     "output_type": "execute_result"
    }
   ],
   "source": [
    "park_df.describe()"
   ]
  },
  {
   "cell_type": "markdown",
   "metadata": {},
   "source": [
    "# Ethics & Privacy"
   ]
  },
  {
   "cell_type": "markdown",
   "metadata": {},
   "source": [
    "Being that parks are for the public, the information on them was also be publicly available. The biggest privacy concern I can currently see would be If my study would at some point need information on the people visiting the parks that could be personal. In that case I would take measures to be granted permission to use personal information and ensure the privacy of participants by maintining there data anonymous.\n",
    "A potential bias that I see involves the location of the parks in San Diego. There are parks in San Diego that reside in both wealthier areas of the city and poorer ones. This could potentially lead to bias in my study If I am not careful.\n",
    "In order to deal with these potential issues I will need to first ensure that all the data I gather is available for me to use. To enusre this I will do my due diligence to research the parks in San Diego to see what information I can and can't use and also ask informed consent if needed. I will also need to ensure that I maintain the privacy of my data by keeping any personal information anonymous. For the biases my project may face, I will need to attempt to find as many cofounding variables as possible that may lead my study to produce biased results."
   ]
  },
  {
   "cell_type": "markdown",
   "metadata": {},
   "source": [
    "# Conclusion & Discussion"
   ]
  },
  {
   "cell_type": "markdown",
   "metadata": {},
   "source": [
    "*Fill in your discussion information here*"
   ]
  }
 ],
 "metadata": {
  "kernelspec": {
   "display_name": "Python 3",
   "language": "python",
   "name": "python3"
  },
  "language_info": {
   "codemirror_mode": {
    "name": "ipython",
    "version": 3
   },
   "file_extension": ".py",
   "mimetype": "text/x-python",
   "name": "python",
   "nbconvert_exporter": "python",
   "pygments_lexer": "ipython3",
   "version": "3.8.3"
  }
 },
 "nbformat": 4,
 "nbformat_minor": 2
}
