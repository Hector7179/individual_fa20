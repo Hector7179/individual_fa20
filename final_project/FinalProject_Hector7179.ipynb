{
 "cells": [
  {
   "cell_type": "markdown",
   "metadata": {},
   "source": [
    "# COGS 108 - Final Project "
   ]
  },
  {
   "cell_type": "markdown",
   "metadata": {},
   "source": [
    "# Overview"
   ]
  },
  {
   "cell_type": "markdown",
   "metadata": {},
   "source": [
    "*Fill in your overview here*"
   ]
  },
  {
   "cell_type": "markdown",
   "metadata": {},
   "source": [
    "# Name & GitHub ID\n",
    "\n",
    "- Name: Hector Penado Jr\n",
    "- GitHub Username: Hector7179"
   ]
  },
  {
   "cell_type": "markdown",
   "metadata": {},
   "source": [
    "# Research Question"
   ]
  },
  {
   "cell_type": "markdown",
   "metadata": {},
   "source": [
    "Is there a relationship between the size of a San Diego Park (in acres) and its corresponding rating on yelp?"
   ]
  },
  {
   "cell_type": "markdown",
   "metadata": {},
   "source": [
    "## Background and Prior Work"
   ]
  },
  {
   "cell_type": "markdown",
   "metadata": {},
   "source": [
    "After living in San Diego for the better part of 3 years I have been to over a handful of small parks around the area that I live in and only one large park (Balboa Park). When I went to Balboa park, I remember distinctly how there were lots of people walking around or engaging in some activity. It was busier than most parks I have been too and I associated that with the idea that this park must be very liked. Conversely, whenever I would go to the smaller parks around my area, I would notice that they tended to by empty in both activities one could do, and number or people. This got me thinking if smaller parks were less liked than their bigger counterparts.\n",
    "\n",
    "From the background work that I have gathered, it appears to me that \n",
    "References (include links):\n",
    "- 1)\n",
    "- 2)"
   ]
  },
  {
   "cell_type": "markdown",
   "metadata": {},
   "source": [
    "# Hypothesis\n"
   ]
  },
  {
   "cell_type": "markdown",
   "metadata": {},
   "source": [
    "The background knowledge I have gained in preparation for this topic leads me to the belief that an increase in acreage of parks allows for more activites that people can engage in which in turn leads to a better experience. That is why I believe that the size of a park is positively correlated with users ratings on yelp."
   ]
  },
  {
   "cell_type": "markdown",
   "metadata": {},
   "source": [
    "# Dataset(s)"
   ]
  },
  {
   "cell_type": "markdown",
   "metadata": {},
   "source": [
    "The ideal dataset for this question would be one that provided me detailed information on the different parks of San Diego. The primary information I would be looking for would be the name of parks, size of the park, some sort of rating scale I could use as an indication of how people felt about the park. Ideally, I would want to have this information on the parks throughout the years to see if a trend is present regarding the relationship between size of parks and people's ratings of them. Ideally, I think it would be best to store the observations in a datframe where the columns would be for the variables I am interested in exploring and the rows would be each park in San Diego as an observation.\n",
    "\n",
    "Dataset 1:\n",
    "Dataset: yelp_SD_parks.csv\n",
    "Link: I was provided with this dataset by instructor.\n",
    "Number of observations: 833\n",
    "This dataset provides information from yelp regarding multiple parks in San Diego. Important information provided in this dataset for this project is name of park and user rating.\n",
    "\n",
    "Dataset 2:\n",
    "Dataset: parks_datasd.geojson\n",
    "Link: I was provided with this dataset by the instructor.\n",
    "Number of observations: 2769\n",
    "This dataset provides location data of parks in San Diego. Important information provided in this dataset for this project is alias of park and gis_acres.\n",
    "\n",
    "Plan for combining datasets: Since I am using two datasets, I plan on merging them based on park names."
   ]
  },
  {
   "cell_type": "markdown",
   "metadata": {},
   "source": [
    "# Setup"
   ]
  },
  {
   "cell_type": "code",
   "execution_count": 19,
   "metadata": {},
   "outputs": [],
   "source": [
    "import pandas as pd\n",
    "import numpy as np\n",
    "import geopandas as gpd"
   ]
  },
  {
   "cell_type": "markdown",
   "metadata": {},
   "source": [
    "# Data Cleaning"
   ]
  },
  {
   "cell_type": "markdown",
   "metadata": {},
   "source": [
    "Describe your data cleaning steps here."
   ]
  },
  {
   "cell_type": "code",
   "execution_count": 56,
   "metadata": {},
   "outputs": [],
   "source": [
    "df_1 = pd.read_csv('https://raw.githubusercontent.com/COGS108/individual_fa20/master/data/yelp_SD_parks.csv')\n",
    "df_2 = gpd.read_file('https://raw.githubusercontent.com/COGS108/individual_fa20/master/data/parks_datasd.geojson')\n"
   ]
  },
  {
   "cell_type": "code",
   "execution_count": 65,
   "metadata": {},
   "outputs": [
    {
     "data": {
      "text/plain": [
       "(2769, 8)"
      ]
     },
     "execution_count": 65,
     "metadata": {},
     "output_type": "execute_result"
    }
   ],
   "source": [
    "df_2.shape"
   ]
  },
  {
   "cell_type": "code",
   "execution_count": 67,
   "metadata": {},
   "outputs": [
    {
     "data": {
      "text/html": [
       "<div>\n",
       "<style scoped>\n",
       "    .dataframe tbody tr th:only-of-type {\n",
       "        vertical-align: middle;\n",
       "    }\n",
       "\n",
       "    .dataframe tbody tr th {\n",
       "        vertical-align: top;\n",
       "    }\n",
       "\n",
       "    .dataframe thead th {\n",
       "        text-align: right;\n",
       "    }\n",
       "</style>\n",
       "<table border=\"1\" class=\"dataframe\">\n",
       "  <thead>\n",
       "    <tr style=\"text-align: right;\">\n",
       "      <th></th>\n",
       "      <th>objectid</th>\n",
       "      <th>name</th>\n",
       "      <th>alias</th>\n",
       "      <th>gis_acres</th>\n",
       "      <th>park_type</th>\n",
       "      <th>location</th>\n",
       "      <th>owner</th>\n",
       "      <th>geometry</th>\n",
       "    </tr>\n",
       "  </thead>\n",
       "  <tbody>\n",
       "    <tr>\n",
       "      <th>0</th>\n",
       "      <td>1</td>\n",
       "      <td>South Carlsbad SB</td>\n",
       "      <td>South Carlsbad State Beach</td>\n",
       "      <td>115.895878</td>\n",
       "      <td>State</td>\n",
       "      <td></td>\n",
       "      <td>State Parks</td>\n",
       "      <td>MULTIPOLYGON (((-117.31431 33.09015, -117.3142...</td>\n",
       "    </tr>\n",
       "    <tr>\n",
       "      <th>1</th>\n",
       "      <td>2</td>\n",
       "      <td>Torrey Pines SB</td>\n",
       "      <td>Torrey Pines State Beach</td>\n",
       "      <td>67.294309</td>\n",
       "      <td>State</td>\n",
       "      <td></td>\n",
       "      <td>State Parks</td>\n",
       "      <td>POLYGON ((-117.26147 32.93883, -117.26181 32.9...</td>\n",
       "    </tr>\n",
       "    <tr>\n",
       "      <th>2</th>\n",
       "      <td>3</td>\n",
       "      <td>Ruocco Park</td>\n",
       "      <td>Ruocco Park</td>\n",
       "      <td>3.312526</td>\n",
       "      <td>Local</td>\n",
       "      <td>585 Harbor Ln, San Diego. California</td>\n",
       "      <td>SDUPD</td>\n",
       "      <td>POLYGON ((-117.17298 32.71167, -117.17303 32.7...</td>\n",
       "    </tr>\n",
       "    <tr>\n",
       "      <th>3</th>\n",
       "      <td>4</td>\n",
       "      <td>Tuna Harbor Park</td>\n",
       "      <td>Tuna Harbor Park</td>\n",
       "      <td>0.639035</td>\n",
       "      <td>Local</td>\n",
       "      <td>700 North Harbor Dr, San Diego. California</td>\n",
       "      <td>SDUPD</td>\n",
       "      <td>POLYGON ((-117.17260 32.71160, -117.17268 32.7...</td>\n",
       "    </tr>\n",
       "    <tr>\n",
       "      <th>4</th>\n",
       "      <td>5</td>\n",
       "      <td>San Diego Bayfront Park</td>\n",
       "      <td>San Diego Bayfront Park</td>\n",
       "      <td>3.669272</td>\n",
       "      <td>Local</td>\n",
       "      <td>One Park Boulevard, San Diego. California</td>\n",
       "      <td>SDUPD</td>\n",
       "      <td>MULTIPOLYGON (((-117.16074 32.70407, -117.1594...</td>\n",
       "    </tr>\n",
       "    <tr>\n",
       "      <th>...</th>\n",
       "      <td>...</td>\n",
       "      <td>...</td>\n",
       "      <td>...</td>\n",
       "      <td>...</td>\n",
       "      <td>...</td>\n",
       "      <td>...</td>\n",
       "      <td>...</td>\n",
       "      <td>...</td>\n",
       "    </tr>\n",
       "    <tr>\n",
       "      <th>2764</th>\n",
       "      <td>2765</td>\n",
       "      <td>San Luis Rey River Park</td>\n",
       "      <td>San Luis Rey River Park</td>\n",
       "      <td>712.262117</td>\n",
       "      <td>Open Space</td>\n",
       "      <td>5521 W. Lilac Road, Bonsall, CA 92003</td>\n",
       "      <td>County DPR</td>\n",
       "      <td>MULTIPOLYGON (((-117.17632 33.31105, -117.1766...</td>\n",
       "    </tr>\n",
       "    <tr>\n",
       "      <th>2765</th>\n",
       "      <td>2766</td>\n",
       "      <td>Horse Creek Ridge Sports Park</td>\n",
       "      <td>Horse Creek Ridge Sports Park</td>\n",
       "      <td>8.398529</td>\n",
       "      <td>Local</td>\n",
       "      <td>240 Gold Palomino Way, Fallbrook CA, 92028</td>\n",
       "      <td>County DPR</td>\n",
       "      <td>POLYGON ((-117.15413 33.35376, -117.15413 33.3...</td>\n",
       "    </tr>\n",
       "    <tr>\n",
       "      <th>2766</th>\n",
       "      <td>2767</td>\n",
       "      <td></td>\n",
       "      <td>Harmony Grove Village 4th of July Park</td>\n",
       "      <td>2.510408</td>\n",
       "      <td>Local</td>\n",
       "      <td>2815 STARRY NIGHT DR, Escondido, CA 92029</td>\n",
       "      <td>County DPR</td>\n",
       "      <td>POLYGON ((-117.13226 33.10238, -117.13225 33.1...</td>\n",
       "    </tr>\n",
       "    <tr>\n",
       "      <th>2767</th>\n",
       "      <td>2768</td>\n",
       "      <td>Harmony Grove Community Park</td>\n",
       "      <td>Harmony Grove Village Community Park</td>\n",
       "      <td>3.575260</td>\n",
       "      <td>Local</td>\n",
       "      <td>2982 Harmony Grove Road, Escondido, CA 92029</td>\n",
       "      <td>County DPR</td>\n",
       "      <td>POLYGON ((-117.13391 33.09869, -117.13376 33.0...</td>\n",
       "    </tr>\n",
       "    <tr>\n",
       "      <th>2768</th>\n",
       "      <td>2769</td>\n",
       "      <td>Harmony Grove Equestrian Park</td>\n",
       "      <td>Harmony Grove Village Equestrian Park</td>\n",
       "      <td>3.647259</td>\n",
       "      <td>Local</td>\n",
       "      <td>2850 Harmony Grove Road, Escondido, CA 92029</td>\n",
       "      <td>County DPR</td>\n",
       "      <td>POLYGON ((-117.13258 33.09964, -117.13258 33.0...</td>\n",
       "    </tr>\n",
       "  </tbody>\n",
       "</table>\n",
       "<p>2769 rows × 8 columns</p>\n",
       "</div>"
      ],
      "text/plain": [
       "      objectid                           name  \\\n",
       "0            1              South Carlsbad SB   \n",
       "1            2                Torrey Pines SB   \n",
       "2            3                    Ruocco Park   \n",
       "3            4               Tuna Harbor Park   \n",
       "4            5        San Diego Bayfront Park   \n",
       "...        ...                            ...   \n",
       "2764      2765        San Luis Rey River Park   \n",
       "2765      2766  Horse Creek Ridge Sports Park   \n",
       "2766      2767                                  \n",
       "2767      2768   Harmony Grove Community Park   \n",
       "2768      2769  Harmony Grove Equestrian Park   \n",
       "\n",
       "                                       alias   gis_acres   park_type  \\\n",
       "0                 South Carlsbad State Beach  115.895878       State   \n",
       "1                   Torrey Pines State Beach   67.294309       State   \n",
       "2                                Ruocco Park    3.312526       Local   \n",
       "3                           Tuna Harbor Park    0.639035       Local   \n",
       "4                    San Diego Bayfront Park    3.669272       Local   \n",
       "...                                      ...         ...         ...   \n",
       "2764                 San Luis Rey River Park  712.262117  Open Space   \n",
       "2765           Horse Creek Ridge Sports Park    8.398529       Local   \n",
       "2766  Harmony Grove Village 4th of July Park    2.510408       Local   \n",
       "2767    Harmony Grove Village Community Park    3.575260       Local   \n",
       "2768   Harmony Grove Village Equestrian Park    3.647259       Local   \n",
       "\n",
       "                                          location        owner  \\\n",
       "0                                                   State Parks   \n",
       "1                                                   State Parks   \n",
       "2             585 Harbor Ln, San Diego. California        SDUPD   \n",
       "3       700 North Harbor Dr, San Diego. California        SDUPD   \n",
       "4        One Park Boulevard, San Diego. California        SDUPD   \n",
       "...                                            ...          ...   \n",
       "2764         5521 W. Lilac Road, Bonsall, CA 92003   County DPR   \n",
       "2765    240 Gold Palomino Way, Fallbrook CA, 92028   County DPR   \n",
       "2766     2815 STARRY NIGHT DR, Escondido, CA 92029   County DPR   \n",
       "2767  2982 Harmony Grove Road, Escondido, CA 92029   County DPR   \n",
       "2768  2850 Harmony Grove Road, Escondido, CA 92029   County DPR   \n",
       "\n",
       "                                               geometry  \n",
       "0     MULTIPOLYGON (((-117.31431 33.09015, -117.3142...  \n",
       "1     POLYGON ((-117.26147 32.93883, -117.26181 32.9...  \n",
       "2     POLYGON ((-117.17298 32.71167, -117.17303 32.7...  \n",
       "3     POLYGON ((-117.17260 32.71160, -117.17268 32.7...  \n",
       "4     MULTIPOLYGON (((-117.16074 32.70407, -117.1594...  \n",
       "...                                                 ...  \n",
       "2764  MULTIPOLYGON (((-117.17632 33.31105, -117.1766...  \n",
       "2765  POLYGON ((-117.15413 33.35376, -117.15413 33.3...  \n",
       "2766  POLYGON ((-117.13226 33.10238, -117.13225 33.1...  \n",
       "2767  POLYGON ((-117.13391 33.09869, -117.13376 33.0...  \n",
       "2768  POLYGON ((-117.13258 33.09964, -117.13258 33.0...  \n",
       "\n",
       "[2769 rows x 8 columns]"
      ]
     },
     "execution_count": 67,
     "metadata": {},
     "output_type": "execute_result"
    }
   ],
   "source": [
    "df_2"
   ]
  },
  {
   "cell_type": "markdown",
   "metadata": {},
   "source": [
    "# Data Analysis & Results"
   ]
  },
  {
   "cell_type": "markdown",
   "metadata": {},
   "source": [
    "Include cells that describe the steps in your data analysis."
   ]
  },
  {
   "cell_type": "code",
   "execution_count": null,
   "metadata": {},
   "outputs": [],
   "source": [
    "## YOUR CODE HERE\n",
    "## FEEL FREE TO ADD MULTIPLE CELLS PER SECTION"
   ]
  },
  {
   "cell_type": "markdown",
   "metadata": {},
   "source": [
    "# Ethics & Privacy"
   ]
  },
  {
   "cell_type": "markdown",
   "metadata": {},
   "source": [
    "*Fill in your ethics & privacy discussion here*"
   ]
  },
  {
   "cell_type": "markdown",
   "metadata": {},
   "source": [
    "# Conclusion & Discussion"
   ]
  },
  {
   "cell_type": "markdown",
   "metadata": {},
   "source": [
    "*Fill in your discussion information here*"
   ]
  }
 ],
 "metadata": {
  "kernelspec": {
   "display_name": "Python 3",
   "language": "python",
   "name": "python3"
  },
  "language_info": {
   "codemirror_mode": {
    "name": "ipython",
    "version": 3
   },
   "file_extension": ".py",
   "mimetype": "text/x-python",
   "name": "python",
   "nbconvert_exporter": "python",
   "pygments_lexer": "ipython3",
   "version": "3.8.3"
  }
 },
 "nbformat": 4,
 "nbformat_minor": 2
}
